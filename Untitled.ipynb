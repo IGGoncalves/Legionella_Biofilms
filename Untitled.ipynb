{
 "cells": [
  {
   "cell_type": "markdown",
   "metadata": {},
   "source": [
    "# Data mining aplicado ao estudo de surtos de Legionella\n",
    "\n",
    "*\"An outbreak is defined as two or more cases where the onset of illness is closely linked in time (weeks rather than months) and in space, where there is suspicion of, or evidence of, a common source of infection, with or without microbiological support (i.e. common spatial location of cases from travel history). An outbreak control team should always be convened to investigate outbreaks. \"*"
   ]
  },
  {
   "cell_type": "code",
   "execution_count": 34,
   "metadata": {},
   "outputs": [],
   "source": [
    "import pandas as pd\n",
    "from matplotlib import pyplot as plt\n",
    "import seaborn as sns\n",
    "\n",
    "%matplotlib inline"
   ]
  },
  {
   "cell_type": "markdown",
   "metadata": {},
   "source": [
    "Começa-se por ler a base de dados criada a partir da bibliografia existente. Para tal, usa-se a biblioteca **pandas** <font color='red'>[].</font>. \n",
    "\n",
    "Uma versão resumida dos dados encontra-se presente na tabela, abaixo. Como se pode verificar, as variáveis em estudo são o **ano** de ocorrência, assim como a **estação de ano** em que ocorreram (Primavera/Verão ou Outono/Inverno) e a **duração** do surto, a **cidade e país**, o **número de casos e fatalidades**, a **idade média** dos pacientes, a **estirpe**, a **causa** e, finalmente, se a **existência de biofilmes** foi considerada como causa. \n",
    "\n",
    "Para além disso, a **fonte** de onde se retiraram estas informações também se encontra presente, mas, como não é relevante para esta análise, já que só estamos a analisar dados que têm documentação fiável associada, vamos eliminar esta coluna."
   ]
  },
  {
   "cell_type": "code",
   "execution_count": 35,
   "metadata": {
    "scrolled": true
   },
   "outputs": [
    {
     "data": {
      "text/html": [
       "<div>\n",
       "<style scoped>\n",
       "    .dataframe tbody tr th:only-of-type {\n",
       "        vertical-align: middle;\n",
       "    }\n",
       "\n",
       "    .dataframe tbody tr th {\n",
       "        vertical-align: top;\n",
       "    }\n",
       "\n",
       "    .dataframe thead th {\n",
       "        text-align: right;\n",
       "    }\n",
       "</style>\n",
       "<table border=\"1\" class=\"dataframe\">\n",
       "  <thead>\n",
       "    <tr style=\"text-align: right;\">\n",
       "      <th></th>\n",
       "      <th>Year</th>\n",
       "      <th>City</th>\n",
       "      <th>Country</th>\n",
       "      <th>Place</th>\n",
       "      <th>Season</th>\n",
       "      <th>Duration (weeks)</th>\n",
       "      <th>Cases</th>\n",
       "      <th>Deaths</th>\n",
       "      <th>Mean Age</th>\n",
       "      <th>Strain</th>\n",
       "      <th>Cause</th>\n",
       "      <th>Treatment</th>\n",
       "      <th>Considers Biofilms</th>\n",
       "      <th>Source</th>\n",
       "    </tr>\n",
       "  </thead>\n",
       "  <tbody>\n",
       "    <tr>\n",
       "      <th>0</th>\n",
       "      <td>1985</td>\n",
       "      <td>Stafford</td>\n",
       "      <td>England</td>\n",
       "      <td>Hospital</td>\n",
       "      <td>Spring/Summer</td>\n",
       "      <td>NaN</td>\n",
       "      <td>68</td>\n",
       "      <td>22.0</td>\n",
       "      <td>62</td>\n",
       "      <td>LP1, subgroup Pontiac 1a</td>\n",
       "      <td>Cooling Tower</td>\n",
       "      <td>NaN</td>\n",
       "      <td>No</td>\n",
       "      <td>O'mahony, M. C., et al. \"The Stafford outbreak...</td>\n",
       "    </tr>\n",
       "    <tr>\n",
       "      <th>1</th>\n",
       "      <td>2006</td>\n",
       "      <td>New York</td>\n",
       "      <td>USA</td>\n",
       "      <td>Community</td>\n",
       "      <td>Spring/Summer</td>\n",
       "      <td>21.0</td>\n",
       "      <td>29</td>\n",
       "      <td>1.0</td>\n",
       "      <td>57</td>\n",
       "      <td>NaN</td>\n",
       "      <td>NaN</td>\n",
       "      <td>NaN</td>\n",
       "      <td>No</td>\n",
       "      <td>Fitzhenry, Robert, et al. \"Legionnaires’ Disea...</td>\n",
       "    </tr>\n",
       "    <tr>\n",
       "      <th>2</th>\n",
       "      <td>2008</td>\n",
       "      <td>New York</td>\n",
       "      <td>USA</td>\n",
       "      <td>Community</td>\n",
       "      <td>Spring/Summer</td>\n",
       "      <td>4.0</td>\n",
       "      <td>7</td>\n",
       "      <td>0.0</td>\n",
       "      <td>64</td>\n",
       "      <td>NaN</td>\n",
       "      <td>NaN</td>\n",
       "      <td>NaN</td>\n",
       "      <td>NaN</td>\n",
       "      <td>Fitzhenry, Robert, et al. \"Legionnaires’ Disea...</td>\n",
       "    </tr>\n",
       "    <tr>\n",
       "      <th>3</th>\n",
       "      <td>2011</td>\n",
       "      <td>Calpe</td>\n",
       "      <td>Spain</td>\n",
       "      <td>Hotel</td>\n",
       "      <td>Autumn/Winter</td>\n",
       "      <td>39.0</td>\n",
       "      <td>44</td>\n",
       "      <td>6.0</td>\n",
       "      <td>&gt; 65</td>\n",
       "      <td>LP1</td>\n",
       "      <td>Water System</td>\n",
       "      <td>NaN</td>\n",
       "      <td>Yes</td>\n",
       "      <td>Sánchez-Busó, Leonor, et al. \"Genomic investig...</td>\n",
       "    </tr>\n",
       "    <tr>\n",
       "      <th>4</th>\n",
       "      <td>2012</td>\n",
       "      <td>Calgary</td>\n",
       "      <td>Canada</td>\n",
       "      <td>Community</td>\n",
       "      <td>Autumn/Winter</td>\n",
       "      <td>3.0</td>\n",
       "      <td>8</td>\n",
       "      <td>0.0</td>\n",
       "      <td>65</td>\n",
       "      <td>LP1</td>\n",
       "      <td>Cooling Tower</td>\n",
       "      <td>NaN</td>\n",
       "      <td>No</td>\n",
       "      <td>Knox, N. C., et al. \"Unusual Legionnaires' out...</td>\n",
       "    </tr>\n",
       "  </tbody>\n",
       "</table>\n",
       "</div>"
      ],
      "text/plain": [
       "   Year      City  Country      Place         Season  Duration (weeks)  Cases  \\\n",
       "0  1985  Stafford  England   Hospital  Spring/Summer               NaN     68   \n",
       "1  2006  New York      USA  Community  Spring/Summer              21.0     29   \n",
       "2  2008  New York      USA  Community  Spring/Summer               4.0      7   \n",
       "3  2011     Calpe    Spain      Hotel  Autumn/Winter              39.0     44   \n",
       "4  2012   Calgary   Canada  Community  Autumn/Winter               3.0      8   \n",
       "\n",
       "   Deaths Mean Age                    Strain          Cause  Treatment  \\\n",
       "0    22.0       62  LP1, subgroup Pontiac 1a  Cooling Tower        NaN   \n",
       "1     1.0       57                       NaN            NaN        NaN   \n",
       "2     0.0       64                       NaN            NaN        NaN   \n",
       "3     6.0     > 65                       LP1   Water System        NaN   \n",
       "4     0.0       65                       LP1  Cooling Tower        NaN   \n",
       "\n",
       "  Considers Biofilms                                             Source  \n",
       "0                 No  O'mahony, M. C., et al. \"The Stafford outbreak...  \n",
       "1                 No  Fitzhenry, Robert, et al. \"Legionnaires’ Disea...  \n",
       "2                NaN  Fitzhenry, Robert, et al. \"Legionnaires’ Disea...  \n",
       "3                Yes  Sánchez-Busó, Leonor, et al. \"Genomic investig...  \n",
       "4                 No  Knox, N. C., et al. \"Unusual Legionnaires' out...  "
      ]
     },
     "execution_count": 35,
     "metadata": {},
     "output_type": "execute_result"
    }
   ],
   "source": [
    "# Leitura do dataset\n",
    "raw_data = pd.read_excel('ArticlesStudy.xlsx')\n",
    "raw_data.head()"
   ]
  },
  {
   "cell_type": "code",
   "execution_count": 37,
   "metadata": {},
   "outputs": [
    {
     "data": {
      "text/html": [
       "<div>\n",
       "<style scoped>\n",
       "    .dataframe tbody tr th:only-of-type {\n",
       "        vertical-align: middle;\n",
       "    }\n",
       "\n",
       "    .dataframe tbody tr th {\n",
       "        vertical-align: top;\n",
       "    }\n",
       "\n",
       "    .dataframe thead th {\n",
       "        text-align: right;\n",
       "    }\n",
       "</style>\n",
       "<table border=\"1\" class=\"dataframe\">\n",
       "  <thead>\n",
       "    <tr style=\"text-align: right;\">\n",
       "      <th></th>\n",
       "      <th>Year</th>\n",
       "      <th>City</th>\n",
       "      <th>Country</th>\n",
       "      <th>Place</th>\n",
       "      <th>Season</th>\n",
       "      <th>Duration (weeks)</th>\n",
       "      <th>Cases</th>\n",
       "      <th>Deaths</th>\n",
       "      <th>Mean Age</th>\n",
       "      <th>Strain</th>\n",
       "      <th>Cause</th>\n",
       "      <th>Treatment</th>\n",
       "      <th>Considers Biofilms</th>\n",
       "    </tr>\n",
       "  </thead>\n",
       "  <tbody>\n",
       "    <tr>\n",
       "      <th>0</th>\n",
       "      <td>1985</td>\n",
       "      <td>Stafford</td>\n",
       "      <td>England</td>\n",
       "      <td>Hospital</td>\n",
       "      <td>Spring/Summer</td>\n",
       "      <td>NaN</td>\n",
       "      <td>68</td>\n",
       "      <td>22.0</td>\n",
       "      <td>62</td>\n",
       "      <td>LP1, subgroup Pontiac 1a</td>\n",
       "      <td>Cooling Tower</td>\n",
       "      <td>NaN</td>\n",
       "      <td>No</td>\n",
       "    </tr>\n",
       "    <tr>\n",
       "      <th>1</th>\n",
       "      <td>2006</td>\n",
       "      <td>New York</td>\n",
       "      <td>USA</td>\n",
       "      <td>Community</td>\n",
       "      <td>Spring/Summer</td>\n",
       "      <td>21.0</td>\n",
       "      <td>29</td>\n",
       "      <td>1.0</td>\n",
       "      <td>57</td>\n",
       "      <td>NaN</td>\n",
       "      <td>NaN</td>\n",
       "      <td>NaN</td>\n",
       "      <td>No</td>\n",
       "    </tr>\n",
       "    <tr>\n",
       "      <th>2</th>\n",
       "      <td>2008</td>\n",
       "      <td>New York</td>\n",
       "      <td>USA</td>\n",
       "      <td>Community</td>\n",
       "      <td>Spring/Summer</td>\n",
       "      <td>4.0</td>\n",
       "      <td>7</td>\n",
       "      <td>0.0</td>\n",
       "      <td>64</td>\n",
       "      <td>NaN</td>\n",
       "      <td>NaN</td>\n",
       "      <td>NaN</td>\n",
       "      <td>NaN</td>\n",
       "    </tr>\n",
       "    <tr>\n",
       "      <th>3</th>\n",
       "      <td>2011</td>\n",
       "      <td>Calpe</td>\n",
       "      <td>Spain</td>\n",
       "      <td>Hotel</td>\n",
       "      <td>Autumn/Winter</td>\n",
       "      <td>39.0</td>\n",
       "      <td>44</td>\n",
       "      <td>6.0</td>\n",
       "      <td>&gt; 65</td>\n",
       "      <td>LP1</td>\n",
       "      <td>Water System</td>\n",
       "      <td>NaN</td>\n",
       "      <td>Yes</td>\n",
       "    </tr>\n",
       "    <tr>\n",
       "      <th>4</th>\n",
       "      <td>2012</td>\n",
       "      <td>Calgary</td>\n",
       "      <td>Canada</td>\n",
       "      <td>Community</td>\n",
       "      <td>Autumn/Winter</td>\n",
       "      <td>3.0</td>\n",
       "      <td>8</td>\n",
       "      <td>0.0</td>\n",
       "      <td>65</td>\n",
       "      <td>LP1</td>\n",
       "      <td>Cooling Tower</td>\n",
       "      <td>NaN</td>\n",
       "      <td>No</td>\n",
       "    </tr>\n",
       "  </tbody>\n",
       "</table>\n",
       "</div>"
      ],
      "text/plain": [
       "   Year      City  Country      Place         Season  Duration (weeks)  Cases  \\\n",
       "0  1985  Stafford  England   Hospital  Spring/Summer               NaN     68   \n",
       "1  2006  New York      USA  Community  Spring/Summer              21.0     29   \n",
       "2  2008  New York      USA  Community  Spring/Summer               4.0      7   \n",
       "3  2011     Calpe    Spain      Hotel  Autumn/Winter              39.0     44   \n",
       "4  2012   Calgary   Canada  Community  Autumn/Winter               3.0      8   \n",
       "\n",
       "   Deaths Mean Age                    Strain          Cause  Treatment  \\\n",
       "0    22.0       62  LP1, subgroup Pontiac 1a  Cooling Tower        NaN   \n",
       "1     1.0       57                       NaN            NaN        NaN   \n",
       "2     0.0       64                       NaN            NaN        NaN   \n",
       "3     6.0     > 65                       LP1   Water System        NaN   \n",
       "4     0.0       65                       LP1  Cooling Tower        NaN   \n",
       "\n",
       "  Considers Biofilms  \n",
       "0                 No  \n",
       "1                 No  \n",
       "2                NaN  \n",
       "3                Yes  \n",
       "4                 No  "
      ]
     },
     "execution_count": 37,
     "metadata": {},
     "output_type": "execute_result"
    }
   ],
   "source": [
    "# Retirar a coluna Source\n",
    "raw_data = raw_data.drop('Source', 1)\n",
    "raw_data.head()"
   ]
  },
  {
   "cell_type": "code",
   "execution_count": 42,
   "metadata": {},
   "outputs": [
    {
     "name": "stdout",
     "output_type": "stream",
     "text": [
      "Dimensão dos dados:  14\n"
     ]
    }
   ],
   "source": [
    "# Imprimir o número de casos em estudo\n",
    "print('Dimensão dos dados: ', raw_data.shape[0])"
   ]
  },
  {
   "cell_type": "markdown",
   "metadata": {},
   "source": []
  },
  {
   "cell_type": "code",
   "execution_count": 38,
   "metadata": {},
   "outputs": [
    {
     "data": {
      "text/plain": [
       "Season\n",
       "Autumn/Winter    5\n",
       "Spring/Summer    9\n",
       "dtype: int64"
      ]
     },
     "execution_count": 38,
     "metadata": {},
     "output_type": "execute_result"
    }
   ],
   "source": [
    "# Group cases by season\n",
    "raw_data.groupby('Season').size()"
   ]
  },
  {
   "cell_type": "code",
   "execution_count": 19,
   "metadata": {},
   "outputs": [
    {
     "data": {
      "text/plain": [
       "Cause\n",
       "Cooling Tower    7\n",
       "Water System     2\n",
       "dtype: int64"
      ]
     },
     "execution_count": 19,
     "metadata": {},
     "output_type": "execute_result"
    }
   ],
   "source": [
    "# Group cases by cause\n",
    "raw_data.groupby('Cause').size()"
   ]
  },
  {
   "cell_type": "markdown",
   "metadata": {},
   "source": [
    "# References\n",
    "\n",
    "[] - http://pandas.pydata.org/"
   ]
  },
  {
   "cell_type": "code",
   "execution_count": null,
   "metadata": {},
   "outputs": [],
   "source": []
  }
 ],
 "metadata": {
  "kernelspec": {
   "display_name": "Python 3",
   "language": "python",
   "name": "python3"
  },
  "language_info": {
   "codemirror_mode": {
    "name": "ipython",
    "version": 3
   },
   "file_extension": ".py",
   "mimetype": "text/x-python",
   "name": "python",
   "nbconvert_exporter": "python",
   "pygments_lexer": "ipython3",
   "version": "3.6.3"
  }
 },
 "nbformat": 4,
 "nbformat_minor": 2
}
