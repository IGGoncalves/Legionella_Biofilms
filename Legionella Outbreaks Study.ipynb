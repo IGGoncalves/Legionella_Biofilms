{
 "cells": [
  {
   "cell_type": "markdown",
   "metadata": {},
   "source": [
    "# Data mining on *Legionella* Outbreaks\n"
   ]
  },
  {
   "cell_type": "code",
   "execution_count": 1,
   "metadata": {},
   "outputs": [],
   "source": [
    "import pandas as pd\n",
    "import numpy as np\n",
    "from matplotlib import pyplot as plt\n",
    "import seaborn as sns\n",
    "from IPython.display import display, HTML\n",
    "\n",
    "%matplotlib inline"
   ]
  },
  {
   "cell_type": "markdown",
   "metadata": {},
   "source": [
    "## Abstract\n",
    "\n",
    "## Introduction\n",
    "Legionellae are bacteria found in water systems, first discovered in 1976, in Philadelphia, that can originate Legionnaire's Disease (LD), a form of pneumonia, and Pontiac Fever (PF), a less dangerous illness that does not cause pneumonia. There are more than 59 species and 70 serogroups of this bacteria. Nevertheless, Legionella pneumophila causes 90% of the cases of legionellosis and, of those, Legionella pneumophila serogroup 1 causes 80%. [1]\n",
    "\n",
    "Legionellae are gram-negative rods that, apart from lakes, rivers and other natural water systems, can also occur in building water systems, especially in hot water and cooling towers/air-conditioning systems as they provide the optimal conditions for its development. These include temperatures between 20 and 50 degrees Celsius, pH between 5.5 and 9.2, the presence of L-Cysteine-HCL and iron salts, as wells as biofilms. Legionellae are also most prevalent in dead legs or other places with stagnant water.\n",
    "\n",
    "These conditions favour the growth of protozoa, which Legionellae use to replicate intracellularly. Moreover, biofilms provide a stable environment and protect Legionellae from hazardous conditions and some treatments used for water systems cleaning. Thus, systems with more protozoa and biofilms have a higher risk of Legionella outbreak.\n",
    "\n",
    "Furthermore, LD is more frequent in people over 50 years, mostly males, and people whose health is, in some way, impaired. For example, smokers, cancer patients and patients that use immunosuppression medication.\n",
    "\n",
    "This piece of work intends to confirm, based on reliable articles, that the main risks presented in the bibliography are coincident with those found in outbreaks reports. Moreover, it tries to establish a clear relationship between the presence of biofilms and outbreaks' occurrence.\n",
    "\n",
    "To achieve this, and as there were no available datasets regarding Legionella, the construction of a database was critical. Once it had a significant amount of data, an extensive analysis was conducted using the Python programming language.\n",
    "\n",
    "\n",
    "\n",
    "## Database Construction\n",
    "\n",
    "This work depended on having solid data, with as many reported outbreaks as possible, yet, as referred, there were no available datasets as such.  Also, as not all available information is reliable, only data from published articles were selected.\n",
    "\n",
    "Therefore, a renowned search platform, PubMed, was used to search for relevant articles. These were gathered in an Excel Sheet, alongside their most relevant data.  A set of chosen keywords that summarized the focus of this work, such as \"Legionella Outbreak\" and \"Legionella Outbreak Biofilms\", was used as input."
   ]
  },
  {
   "cell_type": "code",
   "execution_count": 2,
   "metadata": {},
   "outputs": [
    {
     "data": {
      "text/html": [
       "<div>\n",
       "<style scoped>\n",
       "    .dataframe tbody tr th:only-of-type {\n",
       "        vertical-align: middle;\n",
       "    }\n",
       "\n",
       "    .dataframe tbody tr th {\n",
       "        vertical-align: top;\n",
       "    }\n",
       "\n",
       "    .dataframe thead th {\n",
       "        text-align: right;\n",
       "    }\n",
       "</style>\n",
       "<table border=\"1\" class=\"dataframe\">\n",
       "  <thead>\n",
       "    <tr style=\"text-align: right;\">\n",
       "      <th></th>\n",
       "      <th>Title</th>\n",
       "      <th>Relevance</th>\n",
       "      <th>Source</th>\n",
       "      <th>Key Words</th>\n",
       "      <th>Considers Biofilms</th>\n",
       "    </tr>\n",
       "  </thead>\n",
       "  <tbody>\n",
       "    <tr>\n",
       "      <th>0</th>\n",
       "      <td>An outbreak of Legionnaires' disease associate...</td>\n",
       "      <td>Outbreak</td>\n",
       "      <td>PubMed</td>\n",
       "      <td>\"Legionella Outbreak\"</td>\n",
       "      <td>No</td>\n",
       "    </tr>\n",
       "    <tr>\n",
       "      <th>1</th>\n",
       "      <td>1974 OUTBREAK OF LEGIONNAIRES'DISEASE DIAGNOSE...</td>\n",
       "      <td>Outbreak</td>\n",
       "      <td>PubMed</td>\n",
       "      <td>\"Legionella Outbreak\"</td>\n",
       "      <td>No</td>\n",
       "    </tr>\n",
       "    <tr>\n",
       "      <th>2</th>\n",
       "      <td>Legionnaires' disease. Description of an epide...</td>\n",
       "      <td>Outbreak</td>\n",
       "      <td>PubMed</td>\n",
       "      <td>\"Legionella Outbreak\"</td>\n",
       "      <td>No</td>\n",
       "    </tr>\n",
       "    <tr>\n",
       "      <th>3</th>\n",
       "      <td>The Stafford outbreak of Legionnaires’ disease.</td>\n",
       "      <td>Outbreak</td>\n",
       "      <td>PubMed</td>\n",
       "      <td>\"Legionella Outbreak\"</td>\n",
       "      <td>No</td>\n",
       "    </tr>\n",
       "    <tr>\n",
       "      <th>4</th>\n",
       "      <td>Legionnaires’ disease outbreak in Murcia, Spain.</td>\n",
       "      <td>Outbreak</td>\n",
       "      <td>PubMed</td>\n",
       "      <td>\"Legionella Outbreak\"</td>\n",
       "      <td>No</td>\n",
       "    </tr>\n",
       "  </tbody>\n",
       "</table>\n",
       "</div>"
      ],
      "text/plain": [
       "                                               Title Relevance  Source  \\\n",
       "0  An outbreak of Legionnaires' disease associate...  Outbreak  PubMed   \n",
       "1  1974 OUTBREAK OF LEGIONNAIRES'DISEASE DIAGNOSE...  Outbreak  PubMed   \n",
       "2  Legionnaires' disease. Description of an epide...  Outbreak  PubMed   \n",
       "3    The Stafford outbreak of Legionnaires’ disease.  Outbreak  PubMed   \n",
       "4   Legionnaires’ disease outbreak in Murcia, Spain.  Outbreak  PubMed   \n",
       "\n",
       "               Key Words Considers Biofilms  \n",
       "0  \"Legionella Outbreak\"                 No  \n",
       "1  \"Legionella Outbreak\"                 No  \n",
       "2  \"Legionella Outbreak\"                 No  \n",
       "3  \"Legionella Outbreak\"                 No  \n",
       "4  \"Legionella Outbreak\"                 No  "
      ]
     },
     "execution_count": 2,
     "metadata": {},
     "output_type": "execute_result"
    }
   ],
   "source": [
    "# Read Articles Dataset\n",
    "articles_data = pd.read_excel('ArticlesStudy.xlsx', sheet_name = \"Folha2\")\n",
    "articles_data.head()"
   ]
  },
  {
   "cell_type": "markdown",
   "metadata": {},
   "source": [
    "On a first stage, the articles were analysed and separated into groups based on their relevance, as seen below."
   ]
  },
  {
   "cell_type": "code",
   "execution_count": 3,
   "metadata": {},
   "outputs": [
    {
     "name": "stdout",
     "output_type": "stream",
     "text": [
      "Source: PubMed\n",
      "   Total number of articles:  41\n",
      "   Number of articles related to outbreaks:  19\n",
      "   Percentage of articles related to outbreaks:  46.34146341463415 %\n",
      "\n"
     ]
    },
    {
     "data": {
      "text/html": [
       "<table border=\"1\" class=\"dataframe\">\n",
       "  <thead>\n",
       "    <tr style=\"text-align: right;\">\n",
       "      <th>Relevance</th>\n",
       "      <th>Number of Articles</th>\n",
       "    </tr>\n",
       "  </thead>\n",
       "  <tbody>\n",
       "    <tr>\n",
       "      <td>Outbreak</td>\n",
       "      <td>19</td>\n",
       "    </tr>\n",
       "    <tr>\n",
       "      <td>Environment Study</td>\n",
       "      <td>9</td>\n",
       "    </tr>\n",
       "    <tr>\n",
       "      <td>Genomic Analysis</td>\n",
       "      <td>5</td>\n",
       "    </tr>\n",
       "    <tr>\n",
       "      <td>Not published yet</td>\n",
       "      <td>2</td>\n",
       "    </tr>\n",
       "    <tr>\n",
       "      <td>Isolation Techniques</td>\n",
       "      <td>1</td>\n",
       "    </tr>\n",
       "    <tr>\n",
       "      <td>Microbiology</td>\n",
       "      <td>1</td>\n",
       "    </tr>\n",
       "    <tr>\n",
       "      <td>Not relevant</td>\n",
       "      <td>1</td>\n",
       "    </tr>\n",
       "    <tr>\n",
       "      <td>Remediation</td>\n",
       "      <td>1</td>\n",
       "    </tr>\n",
       "    <tr>\n",
       "      <td>Single Case</td>\n",
       "      <td>1</td>\n",
       "    </tr>\n",
       "    <tr>\n",
       "      <td>Treatment</td>\n",
       "      <td>1</td>\n",
       "    </tr>\n",
       "  </tbody>\n",
       "</table>"
      ],
      "text/plain": [
       "<IPython.core.display.HTML object>"
      ]
     },
     "metadata": {},
     "output_type": "display_data"
    },
    {
     "name": "stdout",
     "output_type": "stream",
     "text": [
      "\n",
      "---------------------------------------------------------------------------\n"
     ]
    }
   ],
   "source": [
    "sources = [\"PubMed\"]\n",
    "\n",
    "for source in sources:\n",
    "    #Print Source\n",
    "    print('Source:', source)\n",
    "    \n",
    "    source_data = articles_data[articles_data[\"Source\"] == source]\n",
    "    \n",
    "    # Print number of articles from Source\n",
    "    print('   Total number of articles: ', source_data.shape[0])\n",
    "\n",
    "    # Print number of outbreak articles form Source\n",
    "    print('   Number of articles related to outbreaks: ', source_data[source_data[\"Relevance\"] == \"Outbreak\"].shape[0])\n",
    "    \n",
    "    #Print percentage of relevant articles\n",
    "    print('   Percentage of articles related to outbreaks: ', source_data[source_data[\"Relevance\"] == \"Outbreak\"].shape[0] / source_data.shape[0] * 100, '%')\n",
    "    print()\n",
    "    \n",
    "    source_relevance_group = pd.DataFrame(source_data.groupby(\"Relevance\").size().reset_index(name = \"Number of Articles\"))\n",
    "    source_relevance_group = source_relevance_group.sort_values(by = [\"Number of Articles\"], ascending = False)\n",
    "    display(HTML(source_relevance_group.to_html(index=False)))\n",
    "    \n",
    "    print()\n",
    "    print(\"---------------------------------------------------------------------------\")"
   ]
  },
  {
   "cell_type": "markdown",
   "metadata": {},
   "source": [
    "The number of articles regarding biofilms should also be analyzed."
   ]
  },
  {
   "cell_type": "code",
   "execution_count": 4,
   "metadata": {
    "scrolled": true
   },
   "outputs": [
    {
     "name": "stdout",
     "output_type": "stream",
     "text": [
      "Source: PubMed\n",
      "Total number of articles:  41\n",
      "Number of articles that consider biofilms:  15\n",
      "Percentage of articles that consider biofilms:  36.58536585365854 %\n",
      "Number of articles that consider biofilms and outbreaks:  7\n",
      "\n"
     ]
    },
    {
     "data": {
      "text/html": [
       "<table border=\"1\" class=\"dataframe\">\n",
       "  <thead>\n",
       "    <tr style=\"text-align: right;\">\n",
       "      <th>Considers Biofilms</th>\n",
       "      <th>Number of Articles</th>\n",
       "    </tr>\n",
       "  </thead>\n",
       "  <tbody>\n",
       "    <tr>\n",
       "      <td>No</td>\n",
       "      <td>19</td>\n",
       "    </tr>\n",
       "    <tr>\n",
       "      <td>Yes</td>\n",
       "      <td>15</td>\n",
       "    </tr>\n",
       "  </tbody>\n",
       "</table>"
      ],
      "text/plain": [
       "<IPython.core.display.HTML object>"
      ]
     },
     "metadata": {},
     "output_type": "display_data"
    },
    {
     "name": "stdout",
     "output_type": "stream",
     "text": [
      "\n",
      "--------------------------------------------------------------------------\n"
     ]
    }
   ],
   "source": [
    "sources = [\"PubMed\"]\n",
    "\n",
    "for source in sources:\n",
    "    #Print Source\n",
    "    print('Source:', source)\n",
    "    \n",
    "    source_data = articles_data[articles_data[\"Source\"] == source]\n",
    "    \n",
    "    # Print number of articles from Source\n",
    "    print('Total number of articles: ', source_data.shape[0])\n",
    "    \n",
    "    source_biofilm_data = source_data[source_data[\"Considers Biofilms\"] == \"Yes\"]\n",
    "    \n",
    "    # Print number of outbreak articles form Source\n",
    "    print('Number of articles that consider biofilms: ', source_biofilm_data.shape[0])\n",
    "    \n",
    "    #Print percentage of relevant articles\n",
    "    print('Percentage of articles that consider biofilms: ', source_data[source_data[\"Considers Biofilms\"] == \"Yes\"].shape[0] / source_data.shape[0] * 100, '%')\n",
    "    \n",
    "    # Print number of outbreak articles form Source\n",
    "    source_biofilm_out_data = source_biofilm_data[source_biofilm_data[\"Relevance\"] == \"Outbreak\"]\n",
    "    print('Number of articles that consider biofilms and outbreaks: ', source_biofilm_out_data.shape[0])\n",
    "    print()\n",
    "    \n",
    "    source_relevance_group = pd.DataFrame(source_data.groupby(\"Considers Biofilms\").size().reset_index(name = \"Number of Articles\"))\n",
    "    source_relevance_group = source_relevance_group.sort_values(by = [\"Number of Articles\"], ascending = False)\n",
    "    display(HTML(source_relevance_group.to_html(index=False)))\n",
    "    \n",
    "    print()\n",
    "    print(\"--------------------------------------------------------------------------\")"
   ]
  },
  {
   "cell_type": "markdown",
   "metadata": {},
   "source": [
    "## Database Analysis\n",
    "\n",
    "A sample of the collected data is represented in the table below. \n",
    "\n",
    "As the source is not relevant in this analysis, this column will be deleted from the DataFrame."
   ]
  },
  {
   "cell_type": "code",
   "execution_count": 5,
   "metadata": {
    "scrolled": true
   },
   "outputs": [
    {
     "data": {
      "text/html": [
       "<div>\n",
       "<style scoped>\n",
       "    .dataframe tbody tr th:only-of-type {\n",
       "        vertical-align: middle;\n",
       "    }\n",
       "\n",
       "    .dataframe tbody tr th {\n",
       "        vertical-align: top;\n",
       "    }\n",
       "\n",
       "    .dataframe thead th {\n",
       "        text-align: right;\n",
       "    }\n",
       "</style>\n",
       "<table border=\"1\" class=\"dataframe\">\n",
       "  <thead>\n",
       "    <tr style=\"text-align: right;\">\n",
       "      <th></th>\n",
       "      <th>Year</th>\n",
       "      <th>City</th>\n",
       "      <th>Country</th>\n",
       "      <th>Place</th>\n",
       "      <th>Season</th>\n",
       "      <th>Cases</th>\n",
       "      <th>Deaths</th>\n",
       "      <th>Mean Age</th>\n",
       "      <th>Strain</th>\n",
       "      <th>Cause</th>\n",
       "      <th>Treatment</th>\n",
       "      <th>Considers Biofilms</th>\n",
       "      <th>Source</th>\n",
       "    </tr>\n",
       "  </thead>\n",
       "  <tbody>\n",
       "    <tr>\n",
       "      <th>0</th>\n",
       "      <td>1974</td>\n",
       "      <td>Philadelphia</td>\n",
       "      <td>USA</td>\n",
       "      <td>Hotel</td>\n",
       "      <td>Spring/Summer</td>\n",
       "      <td>20</td>\n",
       "      <td>2</td>\n",
       "      <td>63</td>\n",
       "      <td>Unknown</td>\n",
       "      <td>Cooling Tower</td>\n",
       "      <td>Not mentioned</td>\n",
       "      <td>No</td>\n",
       "      <td>Terranova, William, MitchellL Cohen, and David...</td>\n",
       "    </tr>\n",
       "    <tr>\n",
       "      <th>1</th>\n",
       "      <td>1976</td>\n",
       "      <td>Philadelphia</td>\n",
       "      <td>USA</td>\n",
       "      <td>Hotel</td>\n",
       "      <td>Spring/Summer</td>\n",
       "      <td>182</td>\n",
       "      <td>29</td>\n",
       "      <td>55</td>\n",
       "      <td>LP</td>\n",
       "      <td>Cooling Tower</td>\n",
       "      <td>Not mentioned</td>\n",
       "      <td>No</td>\n",
       "      <td>Fraser, D.W., et al. (1978). Legionnaires' dis...</td>\n",
       "    </tr>\n",
       "    <tr>\n",
       "      <th>2</th>\n",
       "      <td>1978</td>\n",
       "      <td>Memphis</td>\n",
       "      <td>USA</td>\n",
       "      <td>Hospital</td>\n",
       "      <td>Spring/Summer</td>\n",
       "      <td>44</td>\n",
       "      <td>7</td>\n",
       "      <td>Unknown</td>\n",
       "      <td>LP</td>\n",
       "      <td>Cooling Tower</td>\n",
       "      <td>No treatment</td>\n",
       "      <td>No</td>\n",
       "      <td>Dondero Jr, Timothy J., et al. \"An outbreak of...</td>\n",
       "    </tr>\n",
       "    <tr>\n",
       "      <th>3</th>\n",
       "      <td>1985</td>\n",
       "      <td>Stafford</td>\n",
       "      <td>England</td>\n",
       "      <td>Hospital</td>\n",
       "      <td>Spring/Summer</td>\n",
       "      <td>68</td>\n",
       "      <td>22</td>\n",
       "      <td>62</td>\n",
       "      <td>LP1</td>\n",
       "      <td>Cooling Tower</td>\n",
       "      <td>Chlorination</td>\n",
       "      <td>No</td>\n",
       "      <td>O'mahony, M. C., et al. \"The Stafford outbreak...</td>\n",
       "    </tr>\n",
       "    <tr>\n",
       "      <th>4</th>\n",
       "      <td>2001</td>\n",
       "      <td>Murcia</td>\n",
       "      <td>Spain</td>\n",
       "      <td>Community</td>\n",
       "      <td>Spring/Summer</td>\n",
       "      <td>449</td>\n",
       "      <td>6</td>\n",
       "      <td>&gt; 65</td>\n",
       "      <td>LP1</td>\n",
       "      <td>Cooling Tower</td>\n",
       "      <td>Inadequate treatment</td>\n",
       "      <td>No</td>\n",
       "      <td>García-Fulgueiras, Ana, et al. \"Legionnaires’ ...</td>\n",
       "    </tr>\n",
       "  </tbody>\n",
       "</table>\n",
       "</div>"
      ],
      "text/plain": [
       "   Year          City  Country      Place         Season  Cases Deaths  \\\n",
       "0  1974  Philadelphia      USA      Hotel  Spring/Summer     20      2   \n",
       "1  1976  Philadelphia      USA      Hotel  Spring/Summer    182     29   \n",
       "2  1978       Memphis      USA   Hospital  Spring/Summer     44      7   \n",
       "3  1985      Stafford  England   Hospital  Spring/Summer     68     22   \n",
       "4  2001        Murcia    Spain  Community  Spring/Summer    449      6   \n",
       "\n",
       "  Mean Age   Strain          Cause             Treatment Considers Biofilms  \\\n",
       "0       63  Unknown  Cooling Tower         Not mentioned                 No   \n",
       "1       55       LP  Cooling Tower         Not mentioned                 No   \n",
       "2  Unknown       LP  Cooling Tower          No treatment                 No   \n",
       "3       62      LP1  Cooling Tower          Chlorination                 No   \n",
       "4     > 65      LP1  Cooling Tower  Inadequate treatment                 No   \n",
       "\n",
       "                                              Source  \n",
       "0  Terranova, William, MitchellL Cohen, and David...  \n",
       "1  Fraser, D.W., et al. (1978). Legionnaires' dis...  \n",
       "2  Dondero Jr, Timothy J., et al. \"An outbreak of...  \n",
       "3  O'mahony, M. C., et al. \"The Stafford outbreak...  \n",
       "4  García-Fulgueiras, Ana, et al. \"Legionnaires’ ...  "
      ]
     },
     "execution_count": 5,
     "metadata": {},
     "output_type": "execute_result"
    }
   ],
   "source": [
    "# Leitura do dataset\n",
    "raw_data = pd.read_excel('ArticlesStudy.xlsx')\n",
    "raw_data.head()"
   ]
  },
  {
   "cell_type": "code",
   "execution_count": 6,
   "metadata": {},
   "outputs": [
    {
     "data": {
      "text/html": [
       "<div>\n",
       "<style scoped>\n",
       "    .dataframe tbody tr th:only-of-type {\n",
       "        vertical-align: middle;\n",
       "    }\n",
       "\n",
       "    .dataframe tbody tr th {\n",
       "        vertical-align: top;\n",
       "    }\n",
       "\n",
       "    .dataframe thead th {\n",
       "        text-align: right;\n",
       "    }\n",
       "</style>\n",
       "<table border=\"1\" class=\"dataframe\">\n",
       "  <thead>\n",
       "    <tr style=\"text-align: right;\">\n",
       "      <th></th>\n",
       "      <th>Year</th>\n",
       "      <th>City</th>\n",
       "      <th>Country</th>\n",
       "      <th>Place</th>\n",
       "      <th>Season</th>\n",
       "      <th>Cases</th>\n",
       "      <th>Deaths</th>\n",
       "      <th>Mean Age</th>\n",
       "      <th>Strain</th>\n",
       "      <th>Cause</th>\n",
       "      <th>Treatment</th>\n",
       "      <th>Considers Biofilms</th>\n",
       "    </tr>\n",
       "  </thead>\n",
       "  <tbody>\n",
       "    <tr>\n",
       "      <th>0</th>\n",
       "      <td>1974</td>\n",
       "      <td>Philadelphia</td>\n",
       "      <td>USA</td>\n",
       "      <td>Hotel</td>\n",
       "      <td>Spring/Summer</td>\n",
       "      <td>20</td>\n",
       "      <td>2</td>\n",
       "      <td>63</td>\n",
       "      <td>Unknown</td>\n",
       "      <td>Cooling Tower</td>\n",
       "      <td>Not mentioned</td>\n",
       "      <td>No</td>\n",
       "    </tr>\n",
       "    <tr>\n",
       "      <th>1</th>\n",
       "      <td>1976</td>\n",
       "      <td>Philadelphia</td>\n",
       "      <td>USA</td>\n",
       "      <td>Hotel</td>\n",
       "      <td>Spring/Summer</td>\n",
       "      <td>182</td>\n",
       "      <td>29</td>\n",
       "      <td>55</td>\n",
       "      <td>LP</td>\n",
       "      <td>Cooling Tower</td>\n",
       "      <td>Not mentioned</td>\n",
       "      <td>No</td>\n",
       "    </tr>\n",
       "    <tr>\n",
       "      <th>2</th>\n",
       "      <td>1978</td>\n",
       "      <td>Memphis</td>\n",
       "      <td>USA</td>\n",
       "      <td>Hospital</td>\n",
       "      <td>Spring/Summer</td>\n",
       "      <td>44</td>\n",
       "      <td>7</td>\n",
       "      <td>Unknown</td>\n",
       "      <td>LP</td>\n",
       "      <td>Cooling Tower</td>\n",
       "      <td>No treatment</td>\n",
       "      <td>No</td>\n",
       "    </tr>\n",
       "    <tr>\n",
       "      <th>3</th>\n",
       "      <td>1985</td>\n",
       "      <td>Stafford</td>\n",
       "      <td>England</td>\n",
       "      <td>Hospital</td>\n",
       "      <td>Spring/Summer</td>\n",
       "      <td>68</td>\n",
       "      <td>22</td>\n",
       "      <td>62</td>\n",
       "      <td>LP1</td>\n",
       "      <td>Cooling Tower</td>\n",
       "      <td>Chlorination</td>\n",
       "      <td>No</td>\n",
       "    </tr>\n",
       "    <tr>\n",
       "      <th>4</th>\n",
       "      <td>2001</td>\n",
       "      <td>Murcia</td>\n",
       "      <td>Spain</td>\n",
       "      <td>Community</td>\n",
       "      <td>Spring/Summer</td>\n",
       "      <td>449</td>\n",
       "      <td>6</td>\n",
       "      <td>&gt; 65</td>\n",
       "      <td>LP1</td>\n",
       "      <td>Cooling Tower</td>\n",
       "      <td>Inadequate treatment</td>\n",
       "      <td>No</td>\n",
       "    </tr>\n",
       "  </tbody>\n",
       "</table>\n",
       "</div>"
      ],
      "text/plain": [
       "   Year          City  Country      Place         Season  Cases Deaths  \\\n",
       "0  1974  Philadelphia      USA      Hotel  Spring/Summer     20      2   \n",
       "1  1976  Philadelphia      USA      Hotel  Spring/Summer    182     29   \n",
       "2  1978       Memphis      USA   Hospital  Spring/Summer     44      7   \n",
       "3  1985      Stafford  England   Hospital  Spring/Summer     68     22   \n",
       "4  2001        Murcia    Spain  Community  Spring/Summer    449      6   \n",
       "\n",
       "  Mean Age   Strain          Cause             Treatment Considers Biofilms  \n",
       "0       63  Unknown  Cooling Tower         Not mentioned                 No  \n",
       "1       55       LP  Cooling Tower         Not mentioned                 No  \n",
       "2  Unknown       LP  Cooling Tower          No treatment                 No  \n",
       "3       62      LP1  Cooling Tower          Chlorination                 No  \n",
       "4     > 65      LP1  Cooling Tower  Inadequate treatment                 No  "
      ]
     },
     "execution_count": 6,
     "metadata": {},
     "output_type": "execute_result"
    }
   ],
   "source": [
    "# Retirar a coluna Source\n",
    "raw_data = raw_data.drop('Source', 1)\n",
    "raw_data.head()"
   ]
  },
  {
   "cell_type": "code",
   "execution_count": 7,
   "metadata": {},
   "outputs": [
    {
     "name": "stdout",
     "output_type": "stream",
     "text": [
      "Number of studied cases:  51\n"
     ]
    }
   ],
   "source": [
    "# Imprimir o número de casos em estudo\n",
    "print('Number of studied cases: ', raw_data.shape[0])"
   ]
  },
  {
   "cell_type": "markdown",
   "metadata": {},
   "source": [
    "The analysis will start by representing the number of cases and deaths in function of time. The number of cases is plotted in the chart below, and the number of deaths is also represented, in darker colour."
   ]
  },
  {
   "cell_type": "code",
   "execution_count": 43,
   "metadata": {},
   "outputs": [
    {
     "data": {
      "image/png": "[encoded data removed]",
      "text/plain": [
       "<matplotlib.figure.Figure at 0x23ea5d55fd0>"
      ]
     },
     "metadata": {},
     "output_type": "display_data"
    }
   ],
   "source": [
    "a4_dims = (14, 8.27)\n",
    "fig, ax = plt.subplots(figsize=a4_dims)\n",
    "\n",
    "sns.set_style(\"darkgrid\")\n",
    "\n",
    "sns.swarmplot(x = 'Year', \n",
    "            y = 'Cases', \n",
    "            data = raw_data, \n",
    "            palette = 'GnBu_d',\n",
    "            size = 8,\n",
    "            edgecolor = \"black\")\n",
    "\n",
    "plt.title('Number of Cases vs Year of Occurrence')\n",
    "\n",
    "plt.savefig(\"Year.png\")"
   ]
  },
  {
   "cell_type": "code",
   "execution_count": 42,
   "metadata": {},
   "outputs": [
    {
     "name": "stderr",
     "output_type": "stream",
     "text": [
      "C:\\Users\\Inês\\Anaconda3\\lib\\site-packages\\ipykernel_launcher.py:8: SettingWithCopyWarning: \n",
      "A value is trying to be set on a copy of a slice from a DataFrame.\n",
      "Try using .loc[row_indexer,col_indexer] = value instead\n",
      "\n",
      "See the caveats in the documentation: http://pandas.pydata.org/pandas-docs/stable/indexing.html#indexing-view-versus-copy\n",
      "  \n"
     ]
    },
    {
     "name": "stdout",
     "output_type": "stream",
     "text": [
      "    Year  Deaths\n",
      "0   1974    2.00\n",
      "1   1976   29.00\n",
      "2   1978    7.00\n",
      "3   1985   22.00\n",
      "4   2001    6.00\n",
      "5   2006    1.00\n",
      "6   2008    0.00\n",
      "7   2011    6.00\n",
      "8   2012    3.25\n",
      "9   2013    0.75\n",
      "10  2014    1.00\n",
      "11  2015    4.25\n"
     ]
    },
    {
     "data": {
      "image/png": "[encoded data removed]",
      "text/plain": [
       "<matplotlib.figure.Figure at 0x23ea589e5f8>"
      ]
     },
     "metadata": {},
     "output_type": "display_data"
    }
   ],
   "source": [
    "a4_dims = (14, 8.27)\n",
    "fig, ax = plt.subplots(figsize=a4_dims)\n",
    "\n",
    "sns.set_style(\"darkgrid\")\n",
    "\n",
    "raw_data_clean = raw_data[raw_data[\"Deaths\"] != \"Unknown\"]\n",
    "death_data = raw_data_clean[[\"Year\",\"Deaths\"]]\n",
    "death_data[\"Deaths\"] = pd.to_numeric(death_data[\"Deaths\"])\n",
    "mean_death_data = death_data.groupby(\"Year\")[\"Deaths\"].mean().reset_index()\n",
    "\n",
    "print(mean_death_data)\n",
    "\n",
    "sns.regplot(x = 'Year', \n",
    "            y = 'Deaths', \n",
    "            data = mean_death_data)\n",
    "\n",
    "plt.title('Mean of Deaths vs Year of Occurrence')\n",
    "plt.ylim(0, None)\n",
    "\n",
    "plt.savefig(\"Death.png\")"
   ]
  },
  {
   "cell_type": "code",
   "execution_count": 45,
   "metadata": {},
   "outputs": [
    {
     "data": {
      "text/plain": [
       "41.0"
      ]
     },
     "execution_count": 45,
     "metadata": {},
     "output_type": "execute_result"
    }
   ],
   "source": [
    "raw_data[\"Cases\"].mean()"
   ]
  },
  {
   "cell_type": "code",
   "execution_count": 10,
   "metadata": {},
   "outputs": [
    {
     "data": {
      "text/plain": [
       "Season\n",
       "Autumn/Winter      13\n",
       "Long-term study     1\n",
       "Spring/Summer      37\n",
       "dtype: int64"
      ]
     },
     "execution_count": 10,
     "metadata": {},
     "output_type": "execute_result"
    }
   ],
   "source": [
    "# Agrupar por estação do ano\n",
    "raw_data.groupby('Season').size()"
   ]
  },
  {
   "cell_type": "code",
   "execution_count": 11,
   "metadata": {},
   "outputs": [
    {
     "data": {
      "text/plain": [
       "Cause\n",
       "Air Conditioner     1\n",
       "Cooling Tower      17\n",
       "Fountain            1\n",
       "Undefined           3\n",
       "Water System       29\n",
       "dtype: int64"
      ]
     },
     "execution_count": 11,
     "metadata": {},
     "output_type": "execute_result"
    }
   ],
   "source": [
    "# Agrupar por causa\n",
    "raw_data.groupby('Cause').size()"
   ]
  },
  {
   "cell_type": "code",
   "execution_count": 12,
   "metadata": {},
   "outputs": [
    {
     "name": "stdout",
     "output_type": "stream",
     "text": [
      "Place\n",
      "Assisted Living Facility     9\n",
      "Casino                       1\n",
      "Community                   16\n",
      "Hospital                    13\n",
      "Hotel                        7\n",
      "Household                    2\n",
      "Prison                       3\n",
      "dtype: int64\n"
     ]
    }
   ],
   "source": [
    "# Agrupar por local\n",
    "print(raw_data.groupby('Place').size())"
   ]
  },
  {
   "cell_type": "code",
   "execution_count": 13,
   "metadata": {},
   "outputs": [
    {
     "data": {
      "text/plain": [
       "Strain\n",
       "LP          8\n",
       "LP1        40\n",
       "Unknown     2\n",
       "dtype: int64"
      ]
     },
     "execution_count": 13,
     "metadata": {},
     "output_type": "execute_result"
    }
   ],
   "source": [
    "# Agrupar por estirpe\n",
    "raw_data.groupby('Strain').size()"
   ]
  },
  {
   "cell_type": "code",
   "execution_count": 47,
   "metadata": {},
   "outputs": [
    {
     "data": {
      "text/plain": [
       "Treatment\n",
       "Chlorination                2\n",
       "Inadequate thresholding     1\n",
       "Inadequate treatment        6\n",
       "No treatment                2\n",
       "Not mentioned              40\n",
       "dtype: int64"
      ]
     },
     "execution_count": 47,
     "metadata": {},
     "output_type": "execute_result"
    }
   ],
   "source": [
    "# Agrupar por estirpe\n",
    "raw_data.groupby('Treatment').size()"
   ]
  },
  {
   "cell_type": "code",
   "execution_count": 14,
   "metadata": {},
   "outputs": [
    {
     "data": {
      "text/plain": [
       "Mean Age\n",
       "55          2\n",
       "56          2\n",
       "57          1\n",
       "58          3\n",
       "62          1\n",
       "63          1\n",
       "64          1\n",
       "65          2\n",
       "67          1\n",
       "> 65        3\n",
       "Unknown    34\n",
       "dtype: int64"
      ]
     },
     "execution_count": 14,
     "metadata": {},
     "output_type": "execute_result"
    }
   ],
   "source": [
    "# Agrupar por idade\n",
    "raw_data.groupby('Mean Age').size()"
   ]
  },
  {
   "cell_type": "code",
   "execution_count": 15,
   "metadata": {},
   "outputs": [
    {
     "data": {
      "text/plain": [
       "Considers Biofilms\n",
       "No     44\n",
       "Yes     7\n",
       "dtype: int64"
      ]
     },
     "execution_count": 15,
     "metadata": {},
     "output_type": "execute_result"
    }
   ],
   "source": [
    "# Agrupar por consideração de biofilmes\n",
    "raw_data.groupby('Considers Biofilms').size()"
   ]
  },
  {
   "cell_type": "code",
   "execution_count": 41,
   "metadata": {},
   "outputs": [
    {
     "data": {
      "image/png": "[encoded data removed]",
      "text/plain": [
       "<matplotlib.figure.Figure at 0x23ea5dc2eb8>"
      ]
     },
     "metadata": {},
     "output_type": "display_data"
    }
   ],
   "source": [
    "# Representar Ocorrências em função do local\n",
    "fig, ax = plt.subplots(figsize = a4_dims)\n",
    "sns.countplot(x = 'Place', data = raw_data, palette = 'GnBu_d')\n",
    "plt.ylabel('Number of occurrences')\n",
    "plt.title('Number of Occurrences in function of Place')\n",
    "\n",
    "plt.savefig(\"Places.png\")"
   ]
  },
  {
   "cell_type": "code",
   "execution_count": 20,
   "metadata": {},
   "outputs": [
    {
     "data": {
      "text/plain": [
       "<matplotlib.axes._subplots.AxesSubplot at 0x1da4d163588>"
      ]
     },
     "execution_count": 20,
     "metadata": {},
     "output_type": "execute_result"
    },
    {
     "data": {
      "image/png": "[encoded data removed]",
      "text/plain": [
       "<matplotlib.figure.Figure at 0x1da4d1f8080>"
      ]
     },
     "metadata": {},
     "output_type": "display_data"
    }
   ],
   "source": [
    "# Representar Ocorrências em função da causa e estirpe\n",
    "compare_dim = (16, 4)\n",
    "fig, ax = plt.subplots(1, 2, figsize = compare_dim)\n",
    "\n",
    "sns.countplot(x = 'Cause', data = raw_data, palette = 'GnBu_d', ax = ax[0])\n",
    "sns.countplot(x = 'Strain', data = raw_data, palette = 'GnBu_d', ax = ax[1])"
   ]
  },
  {
   "cell_type": "markdown",
   "metadata": {},
   "source": [
    "# References\n",
    "\n",
    "[] - http://pandas.pydata.org/\n",
    "\n",
    "[1] - Springston, John P., and Liana Yocavitch. \"Existence and control of Legionella bacteria in building water systems: A review.\" Journal of occupational and environmental hygiene 14.2 (2017): 124-134.\n",
    "\n",
    "[2] - "
   ]
  },
  {
   "cell_type": "code",
   "execution_count": null,
   "metadata": {},
   "outputs": [],
   "source": []
  }
 ],
 "metadata": {
  "kernelspec": {
   "display_name": "Python 3",
   "language": "python",
   "name": "python3"
  },
  "language_info": {
   "codemirror_mode": {
    "name": "ipython",
    "version": 3
   },
   "file_extension": ".py",
   "mimetype": "text/x-python",
   "name": "python",
   "nbconvert_exporter": "python",
   "pygments_lexer": "ipython3",
   "version": "3.6.4"
  }
 },
 "nbformat": 4,
 "nbformat_minor": 2
}
